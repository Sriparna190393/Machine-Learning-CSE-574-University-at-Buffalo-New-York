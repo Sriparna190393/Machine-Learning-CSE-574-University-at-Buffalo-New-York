{
  "nbformat": 4,
  "nbformat_minor": 0,
  "metadata": {
    "kernelspec": {
      "display_name": "Python 3",
      "language": "python",
      "name": "python3"
    },
    "language_info": {
      "codemirror_mode": {
        "name": "ipython",
        "version": 3
      },
      "file_extension": ".py",
      "mimetype": "text/x-python",
      "name": "python",
      "nbconvert_exporter": "python",
      "pygments_lexer": "ipython3",
      "version": "3.5.6"
    },
    "colab": {
      "name": "main.ipynb",
      "provenance": [],
      "collapsed_sections": []
    }
  },
  "cells": [
    {
      "cell_type": "markdown",
      "metadata": {
        "id": "F1sa_QJ55-fu",
        "colab_type": "text"
      },
      "source": [
        "# **Project 4 - Q Learning**\n",
        "\n",
        "For this project, you will be tasked with both implementing and explaining key components of the Q-learning algorithm.\n",
        "\n",
        "All the code deliverables has to be provided within this notebook.\n",
        "\n",
        "# 1 - Packages\n",
        "Let's first import all the packages that you will need during this assignment.\n",
        "\n",
        "* \n",
        "[numpy](https://numpy.org/) - is the main package for scientific computing with Python\n",
        "*\n",
        "[matplotlib](https://matplotlib.org/) - is a plotting library\n",
        "*\n",
        "[gym](https://gym.openai.com/docs/) - Gym is a toolkit for developing and comparing reinforcement learning algorithms.\n",
        "*\n",
        "[gym.spaces](http://gym.openai.com/docs/) - Every environment comes with an action_space and an observation_space. These attributes are of type Space, and they describe the format of valid actions and observations.\n",
        "*\n",
        "[time](https://docs.python.org/3/library/time.html?highlight=time#module-time) - will be used to track how much time each computation takes\n",
        "*\n",
        "[copy](https://docs.python.org/3/library/copy.html) - A copy is sometimes needed so one can change one copy without changing the other.\n",
        "*\n",
        "[Threading](https://docs.python.org/3/library/threading.html) - This module constructs higher-level threading interfaces on top of the lower level thread module.\n",
        "*\n",
        "[Collections](https://docs.python.org/2/library/collections.html) - This module implements specialized container datatypes providing alternatives to Python’s general purpose built-in containers, dict, list, set, and tuple.\n"
      ]
    },
    {
      "cell_type": "code",
      "metadata": {
        "id": "M_PLd07ie8k1",
        "colab_type": "code",
        "colab": {}
      },
      "source": [
        "#######################################################################\n",
        "# Authors:\n",
        "# Nathan Margaglio (nathanmargaglio@gmail.com)                                                          \n",
        "# Mihir Hemant Chauhan (mihirhem@buffalo.edu)                       \n",
        "# Qian Cheng (qcheng2@buffalo.edu)                            \n",
        "#######################################################################\n",
        "import numpy as np\n",
        "import matplotlib.pyplot as plt\n",
        "import gym\n",
        "import gym.spaces\n",
        "import time\n",
        "import copy\n",
        "import threading\n",
        "import time\n",
        "import collections\n",
        "import math\n",
        "import random\n",
        "import sys\n",
        "from collections import deque, defaultdict"
      ],
      "execution_count": 0,
      "outputs": []
    },
    {
      "cell_type": "markdown",
      "metadata": {
        "id": "6AsLthEre8kw",
        "colab_type": "text"
      },
      "source": [
        "`## Basic Environment\n",
        "Here we define our grid-world environment. No need to make any changes."
      ]
    },
    {
      "cell_type": "code",
      "metadata": {
        "colab_type": "code",
        "id": "1KZhxOunpbNp",
        "colab": {}
      },
      "source": [
        "class GridEnvironment(gym.Env):\n",
        "    metadata = { 'render.modes': ['human'] }\n",
        "    \n",
        "    def __init__(self, normalize=False, size=4):\n",
        "        self.observation_space = gym.spaces.Box(0, size, (size,))\n",
        "        self.action_space = gym.spaces.Discrete(4)\n",
        "        self.max_timesteps = size*2 + 1\n",
        "        self.normalize = normalize\n",
        "        self.size = size\n",
        "\n",
        "        # Generate State Transition Table\n",
        "        self.transition_matrix = []\n",
        "        for x in range(size + 1):\n",
        "            state_x = []\n",
        "            for y in range(size + 1):\n",
        "                state_y = []\n",
        "                for a in range(4):\n",
        "                    one_hot = np.zeros(4)\n",
        "                    one_hot[a] = 1\n",
        "                    state_y.append(one_hot)\n",
        "                state_x.append(state_y)\n",
        "            self.transition_matrix.append(state_x)\n",
        "        \n",
        "    def transition_func(self, x, y, action, return_probs=False):\n",
        "        probs = self.transition_matrix[x][y][action]\n",
        "        if return_probs:\n",
        "            return probs\n",
        "        else:\n",
        "            return np.random.choice(len(probs), p=probs)\n",
        "\n",
        "    def _get_distance(self, x, y):\n",
        "        return abs(x[0] - y[0]) + abs(x[1] - y[1])\n",
        "        \n",
        "    def reset(self):\n",
        "        self.timestep = 0\n",
        "        self.agent_pos = [0, 0]\n",
        "        self.goal_pos = [self.size, self.size]\n",
        "        self.state = np.zeros((self.size + 1, self.size + 1))\n",
        "        self.state[tuple(self.agent_pos)] = 1\n",
        "        self.state[tuple(self.goal_pos)] = 0.5\n",
        "        self.prev_distance = self._get_distance(self.agent_pos, self.goal_pos)\n",
        "        return np.array(self.agent_pos)/1.\n",
        "    \n",
        "    def step(self, action):\n",
        "        action_taken = self.transition_func(self.agent_pos[0], self.agent_pos[1], action)\n",
        "        self.state = np.random.choice(self.observation_space.shape[0])\n",
        "        if action_taken == 0:\n",
        "            self.agent_pos[0] += 1\n",
        "        if action_taken == 1:\n",
        "            self.agent_pos[0] -= 1\n",
        "        if action_taken == 2:\n",
        "            self.agent_pos[1] += 1\n",
        "        if action_taken == 3:\n",
        "            self.agent_pos[1] -= 1\n",
        "          \n",
        "        self.agent_pos = np.clip(self.agent_pos, 0, self.size)\n",
        "        self.state = np.zeros((self.size + 1, self.size + 1))\n",
        "        self.state[tuple(self.agent_pos)] = 1\n",
        "        self.state[tuple(self.goal_pos)] = 0.5\n",
        "        \n",
        "        current_distance = self._get_distance(self.agent_pos, self.goal_pos)\n",
        "        if current_distance < self.prev_distance:\n",
        "            reward = 1\n",
        "        elif current_distance > self.prev_distance:\n",
        "            reward = -1\n",
        "        else:\n",
        "            reward = -1\n",
        "        self.prev_distance = current_distance\n",
        "        \n",
        "        self.timestep += 1\n",
        "        if self.timestep >= self.max_timesteps or current_distance == 0:\n",
        "            done = True\n",
        "        else:\n",
        "            done = False\n",
        "        info = {}\n",
        "        \n",
        "        obs = self.agent_pos\n",
        "        if self.normalize:\n",
        "            obs = obs/self.size\n",
        "        return obs, reward, done, info\n",
        "        \n",
        "    def render(self, mode='human'):\n",
        "        plt.imshow(self.state)"
      ],
      "execution_count": 0,
      "outputs": []
    },
    {
      "cell_type": "code",
      "metadata": {
        "id": "hy2YHvlNe8lW",
        "colab_type": "code",
        "outputId": "0fe71733-e611-44e8-ab04-2096c705c5a1",
        "colab": {
          "base_uri": "https://localhost:8080/",
          "height": 265
        }
      },
      "source": [
        "env = GridEnvironment()\n",
        "obs = env.reset()\n",
        "env.render()"
      ],
      "execution_count": 3,
      "outputs": [
        {
          "output_type": "display_data",
          "data": {
            "image/png": "[encoded data removed]",
            "text/plain": [
              "<Figure size 432x288 with 1 Axes>"
            ]
          },
          "metadata": {
            "tags": []
          }
        }
      ]
    },
    {
      "cell_type": "markdown",
      "metadata": {
        "id": "Bc3VOQuJF1el",
        "colab_type": "text"
      },
      "source": [
        "## Random Agent\n",
        "This runs the environment with a random agent that just takes random actions. Neither does he learn, nor remember anything. Try to run it!"
      ]
    },
    {
      "cell_type": "code",
      "metadata": {
        "id": "z9XqqwQtFr8k",
        "colab_type": "code",
        "colab": {}
      },
      "source": [
        "class RandomAgent:\n",
        "    def __init__(self, env):\n",
        "        self.env = env\n",
        "        self.observation_space = env.observation_space\n",
        "        self.action_space = env.action_space\n",
        "\n",
        "    def policy(self, observation):\n",
        "        return np.random.choice(self.action_space.n)\n",
        "        \n",
        "    def step(self, observation, verbose=False):\n",
        "        return self.policy(observation)"
      ],
      "execution_count": 0,
      "outputs": []
    },
    {
      "cell_type": "code",
      "metadata": {
        "id": "0S5tBBqfF-s3",
        "colab_type": "code",
        "outputId": "2c39b54a-82d4-40ab-a0d3-01ef1cb69567",
        "colab": {
          "base_uri": "https://localhost:8080/",
          "height": 1000
        }
      },
      "source": [
        "env = GridEnvironment(normalize=True)\n",
        "agent = RandomAgent(env)\n",
        "\n",
        "obs = env.reset()\n",
        "done = False\n",
        "agent.epsilon = 0\n",
        "env.render()\n",
        "plt.show()\n",
        "\n",
        "while not done:\n",
        "    action = agent.step(obs, verbose=True)\n",
        "    obs, reward, done, info = env.step(action)\n",
        "    env.render()\n",
        "    plt.show()"
      ],
      "execution_count": 5,
      "outputs": [
        {
          "output_type": "display_data",
          "data": {
            "image/png": "[encoded data removed]",
            "text/plain": [
              "<Figure size 432x288 with 1 Axes>"
            ]
          },
          "metadata": {
            "tags": []
          }
        },
        {
          "output_type": "display_data",
          "data": {
            "image/png": "[encoded data removed]",
            "text/plain": [
              "<Figure size 432x288 with 1 Axes>"
            ]
          },
          "metadata": {
            "tags": []
          }
        },
        {
          "output_type": "display_data",
          "data": {
            "image/png": "[encoded data removed]",
            "text/plain": [
              "<Figure size 432x288 with 1 Axes>"
            ]
          },
          "metadata": {
            "tags": []
          }
        },
        {
          "output_type": "display_data",
          "data": {
            "image/png": "[encoded data removed]",
            "text/plain": [
              "<Figure size 432x288 with 1 Axes>"
            ]
          },
          "metadata": {
            "tags": []
          }
        },
        {
          "output_type": "display_data",
          "data": {
            "image/png": "[encoded data removed]",
            "text/plain": [
              "<Figure size 432x288 with 1 Axes>"
            ]
          },
          "metadata": {
            "tags": []
          }
        },
        {
          "output_type": "display_data",
          "data": {
            "image/png": "[encoded data removed]",
            "text/plain": [
              "<Figure size 432x288 with 1 Axes>"
            ]
          },
          "metadata": {
            "tags": []
          }
        },
        {
          "output_type": "display_data",
          "data": {
            "image/png": "[encoded data removed]",
            "text/plain": [
              "<Figure size 432x288 with 1 Axes>"
            ]
          },
          "metadata": {
            "tags": []
          }
        },
        {
          "output_type": "display_data",
          "data": {
            "image/png": "[encoded data removed]",
            "text/plain": [
              "<Figure size 432x288 with 1 Axes>"
            ]
          },
          "metadata": {
            "tags": []
          }
        },
        {
          "output_type": "display_data",
          "data": {
            "image/png": "[encoded data removed]",
            "text/plain": [
              "<Figure size 432x288 with 1 Axes>"
            ]
          },
          "metadata": {
            "tags": []
          }
        },
        {
          "output_type": "display_data",
          "data": {
            "image/png": "[encoded data removed]",
            "text/plain": [
              "<Figure size 432x288 with 1 Axes>"
            ]
          },
          "metadata": {
            "tags": []
          }
        }
      ]
    },
    {
      "cell_type": "markdown",
      "metadata": {
        "id": "JCKzZh7u0zFJ",
        "colab_type": "text"
      },
      "source": [
        "## Heuristic Agent\n",
        "This runs the environment with a heuristic agent. No need to make any changes. Try to run it!"
      ]
    },
    {
      "cell_type": "code",
      "metadata": {
        "id": "aVGLhrTG0yQp",
        "colab_type": "code",
        "colab": {}
      },
      "source": [
        "class HeuristicAgent:\n",
        "    def __init__(self, env):\n",
        "        self.env = env\n",
        "        self.observation_space = env.observation_space\n",
        "        self.action_space = env.action_space\n",
        "\n",
        "    def policy(self, observation):\n",
        "        # 0 - down\n",
        "        # 1 - up\n",
        "        # 2 - right\n",
        "        # 3 - left\n",
        "        if (observation[0] < 1.):\n",
        "            return 0\n",
        "        if (observation[1] < 1.):\n",
        "            return 2\n",
        "        return 0\n",
        "        \n",
        "    def step(self, observation, verbose=False):\n",
        "        if verbose:\n",
        "            print(observation)\n",
        "        return self.policy(observation)"
      ],
      "execution_count": 0,
      "outputs": []
    },
    {
      "cell_type": "code",
      "metadata": {
        "id": "kZGSRSzo07v-",
        "colab_type": "code",
        "outputId": "eb17335b-d805-467f-a7fc-b10bd7e31133",
        "colab": {
          "base_uri": "https://localhost:8080/",
          "height": 1000
        }
      },
      "source": [
        "env = GridEnvironment(normalize=True)\n",
        "agent = HeuristicAgent(env)\n",
        "\n",
        "obs = env.reset()\n",
        "done = False\n",
        "agent.epsilon = 0\n",
        "env.render()\n",
        "plt.show()\n",
        "\n",
        "while not done:\n",
        "    action = agent.step(obs, verbose=True)\n",
        "    obs, reward, done, info = env.step(action)\n",
        "    env.render()\n",
        "    plt.show()"
      ],
      "execution_count": 7,
      "outputs": [
        {
          "output_type": "display_data",
          "data": {
            "image/png": "[encoded data removed]",
            "text/plain": [
              "<Figure size 432x288 with 1 Axes>"
            ]
          },
          "metadata": {
            "tags": []
          }
        },
        {
          "output_type": "stream",
          "text": [
            "[0. 0.]\n"
          ],
          "name": "stdout"
        },
        {
          "output_type": "display_data",
          "data": {
            "image/png": "[encoded data removed]",
            "text/plain": [
              "<Figure size 432x288 with 1 Axes>"
            ]
          },
          "metadata": {
            "tags": []
          }
        },
        {
          "output_type": "stream",
          "text": [
            "[0.25 0.  ]\n"
          ],
          "name": "stdout"
        },
        {
          "output_type": "display_data",
          "data": {
            "image/png": "[encoded data removed]",
            "text/plain": [
              "<Figure size 432x288 with 1 Axes>"
            ]
          },
          "metadata": {
            "tags": []
          }
        },
        {
          "output_type": "stream",
          "text": [
            "[0.5 0. ]\n"
          ],
          "name": "stdout"
        },
        {
          "output_type": "display_data",
          "data": {
            "image/png": "[encoded data removed]",
            "text/plain": [
              "<Figure size 432x288 with 1 Axes>"
            ]
          },
          "metadata": {
            "tags": []
          }
        },
        {
          "output_type": "stream",
          "text": [
            "[0.75 0.  ]\n"
          ],
          "name": "stdout"
        },
        {
          "output_type": "display_data",
          "data": {
            "image/png": "[encoded data removed]",
            "text/plain": [
              "<Figure size 432x288 with 1 Axes>"
            ]
          },
          "metadata": {
            "tags": []
          }
        },
        {
          "output_type": "stream",
          "text": [
            "[1. 0.]\n"
          ],
          "name": "stdout"
        },
        {
          "output_type": "display_data",
          "data": {
            "image/png": "[encoded data removed]",
            "text/plain": [
              "<Figure size 432x288 with 1 Axes>"
            ]
          },
          "metadata": {
            "tags": []
          }
        },
        {
          "output_type": "stream",
          "text": [
            "[1.   0.25]\n"
          ],
          "name": "stdout"
        },
        {
          "output_type": "display_data",
          "data": {
            "image/png": "[encoded data removed]",
            "text/plain": [
              "<Figure size 432x288 with 1 Axes>"
            ]
          },
          "metadata": {
            "tags": []
          }
        },
        {
          "output_type": "stream",
          "text": [
            "[1.  0.5]\n"
          ],
          "name": "stdout"
        },
        {
          "output_type": "display_data",
          "data": {
            "image/png": "[encoded data removed]",
            "text/plain": [
              "<Figure size 432x288 with 1 Axes>"
            ]
          },
          "metadata": {
            "tags": []
          }
        },
        {
          "output_type": "stream",
          "text": [
            "[1.   0.75]\n"
          ],
          "name": "stdout"
        },
        {
          "output_type": "display_data",
          "data": {
            "image/png": "[encoded data removed]",
            "text/plain": [
              "<Figure size 432x288 with 1 Axes>"
            ]
          },
          "metadata": {
            "tags": []
          }
        }
      ]
    },
    {
      "cell_type": "markdown",
      "metadata": {
        "id": "oSjsMD6Ze8ld",
        "colab_type": "text"
      },
      "source": [
        "## Tabular Q-Learning\n",
        "This is where you need to define policy and update Q tables.\n",
        "For policy.\n",
        "\n",
        "*  \n",
        "[np.argmax](https://docs.scipy.org/doc/numpy/reference/generated/numpy.argmax.html) - Returns the indices of the maximum values along an axis.\n",
        "\n",
        "### Epsilon\n",
        "\n",
        "Our agent will randomly select its action at first by a certain percentage, called ‘exploration rate’ or ‘epsilon’. This is because at first, it is better for the agent to try all kinds of things before it starts to see the patterns. When it is not deciding the action randomly, the agent will predict the reward value based on the current state and pick the action that will give the highest reward. We want our agent to decrease the number of random action, as it goes, so we indroduce an exponential-decay epsilon, that eventually will allow our agent to explore the evironment. \\\\\n",
        "\n",
        "\n",
        "\n",
        "###  <font color='red'>Task 1: Implement policy function.</font>  <br>\n",
        "**Instructions:**\n",
        "- Our agent will randomly select its action at first by a certain percentage, called ‘exploration rate’ or ‘epsilon’. This is because at first, it is better for the agent to try all kinds of things before it starts to see the patterns. Select a random uniform number. If it's less than epsilon, return the random choice action space.\n",
        "- When it is not deciding the action randomly, the agent will predict the reward value based on the current state and pick the action that will give the highest reward. \n",
        "\\begin{align} \\notag\n",
        "\\pi\\left(s_{t}\\right)=\\underset{a \\in A}{\\operatorname{argmax}} Q_{\\theta}\\left(s_{t}, a\\right)\n",
        "\\end{align} \n",
        "- Return the policy\n",
        "- Please note, that the name for all the variables should start with <mark>self</mark>, thus </br> \n",
        "\n",
        "epsilon $\\rightarrow$ self.epsilon </br> \n",
        "action_space $\\rightarrow$ self.action_space\n",
        "\n",
        "###  <font color='red'>Task 2: Update Q-table</font>  <br>\n",
        "**Instructions:**\n",
        "            \\begin{align} \\notag\n",
        "            Q^{n e w}\\left(s_{t}, a_{t}\\right) \\leftarrow(1-\\alpha) \\cdot \\underbrace{Q\\left(s_{t}, a_{t}\\right)}_{\\text {old value }}+\\underbrace{\\alpha}_{\\text {learning rate }} \\cdot \\overbrace{(\\underbrace{r_{t}}_{\\text {reward }} + \\underbrace{\\gamma}_{\\text {discount factor }} \\underbrace{\\max _{a} Q\\left(s_{t+1}, a\\right)}_{a})}^{\\text {learned value }}\n",
        "            \\end{align} "
      ]
    },
    {
      "cell_type": "code",
      "metadata": {
        "id": "l88irSuqe8lf",
        "colab_type": "code",
        "colab": {}
      },
      "source": [
        "class QLearningAgent:\n",
        "    def __init__(self, env, epsilon=1.0, lr=0.1, gamma=0.9):\n",
        "        self.env = env\n",
        "        self.observation_space = env.observation_space\n",
        "        self.action_space = env.action_space\n",
        "        q_table_dim = env.observation_space.shape[0] + 1\n",
        "        self.q_table = np.zeros((q_table_dim, q_table_dim, env.action_space.n))\n",
        "        self.epsilon = epsilon\n",
        "        self.lr = lr\n",
        "        self.gamma = gamma\n",
        "\n",
        "    def policy(self, observation):\n",
        "      # Code for policy (Task 1) (30 points)\n",
        "      observation = observation.astype(int)\n",
        "      if random.random()>self.epsilon:\n",
        "        return np.argmax(self.q_table[observation[0]][observation[1]])\n",
        "      else:\n",
        "        return np.random.choice(env.action_space.n)  \n",
        "    \n",
        "    def step(self, observation):\n",
        "      return self.policy(observation)\n",
        "        \n",
        "    def update(self, state, action, reward, next_state):\n",
        "        state = state.astype(int)\n",
        "        next_state = next_state.astype(int)\n",
        "        # Code for updating Q Table (Task 2) (20 points)\n",
        "        curr_state = self.q_table[state[0]][state[1]][action]\n",
        "        Qsa_next = np.max(self.q_table[next_state[0]][next_state[1]]) if next_state is not None else 0\n",
        "        target = (reward + (self.gamma*Qsa_next))\n",
        "        new_state = curr_state + self.lr * (target - curr_state)\n",
        "        return new_state\n",
        "    \n",
        "    def set_epsilon(self, epsilon):\n",
        "        self.epsilon = epsilon"
      ],
      "execution_count": 0,
      "outputs": []
    },
    {
      "cell_type": "markdown",
      "metadata": {
        "id": "UNKDdzD3e8lj",
        "colab_type": "text"
      },
      "source": [
        "### Training\n",
        "### Environment\n",
        "First, we initialize our environment.  The environment, loosely structured like [OpenAI's Gym Environments](https://gym.openai.com/), has three main methods: `reset`, `step` and `render`. You'll only need `reset` and `step` here.\n",
        "\n",
        "- When we call **reset**, we initialize the environment with a fresh episode. This allows us to effectively run through episodes (only needing to call reset at the beginning of an episode), but, more importantly, `reset()` returns the environment's initial state.\n",
        "\n",
        "- The **step** method accepts an action as a parameter (which, for this example, is an integer in [0, 3]), processes the action, and returns the new state, the reward for performing the action, and a boolean indicating if the run is over.\n",
        "\n",
        "### Agent\n",
        "When we initialize the agent, we must pass both a `environment` into QLearningAgent function.\n",
        "###  <font color='red'>Task 3: Implement the training algorithm</font>  <br>\n",
        "**Instructions:**\n",
        "- After initialization, pass the initial state to obs. Then check if it's already done. If done = False, you'll keep going. While it's not done, you'll need to update `state`, `action`,`reward` and `next_state`. You can get action by `step` the current state on agent. Use `copy` to record the current state. `step` the current action on environment to return the new state, the reward for performing the action, a boolean indicating if the run is over and some other information. Add the new reward on the total rewards. Use `copy` to save the new state returned by `step`. Update the `state`, `action`, `reward`, `next_state` of agent."
      ]
    },
    {
      "cell_type": "code",
      "metadata": {
        "id": "2SDbl2Kue8lk",
        "colab_type": "code",
        "outputId": "31f64e8d-e788-4bb6-858f-6ddb92aa2526",
        "colab": {
          "base_uri": "https://localhost:8080/",
          "height": 1000
        }
      },
      "source": [
        "env = GridEnvironment() # note: we do not normalize\n",
        "agent = QLearningAgent(env)\n",
        "episodes = 1000 # number of games we want the agent to play\n",
        "# delta_epsilon = agent.epsilon/episodes\n",
        "delta_epsilon = 0.9999\n",
        "epsilons = [agent.epsilon]\n",
        "total_reward = []\n",
        "\n",
        "nA = env.action_space.n\n",
        "plot_every = 100\n",
        "temp_score = deque(maxlen=plot_every)\n",
        "avg_score = deque(maxlen=episodes)\n",
        "best_avg_reward = -math.inf\n",
        "best_rewards = []\n",
        "max_reward = -math.inf\n",
        "\n",
        "# Training Process (Task 3) (20 points)\n",
        "for i_episode in range(1,episodes):\n",
        "  state = env.reset()\n",
        "  score = 0\n",
        "  temp_reward = 0.0\n",
        "\n",
        "  while True:\n",
        "      state = state.astype(int)\n",
        "      action = agent.policy(state)\n",
        "      next_state, reward, done, info = env.step(action)\n",
        "      score += reward\n",
        "      temp_reward += reward\n",
        "      next_state = next_state.astype(int)\n",
        "      agent.q_table[state[0]][state[1]][action] = agent.update(state,action,reward,next_state)\n",
        "      state = next_state\n",
        "      if reward > max_reward:\n",
        "        max_reward = reward\n",
        "      if done:\n",
        "          temp_score.append(score)\n",
        "          break\n",
        "  total_reward.append(temp_reward)\n",
        "\n",
        "  if (i_episode >= 100):\n",
        "      avg_reward = np.mean(temp_score)\n",
        "      avg_score.append(avg_reward)\n",
        "      if avg_reward > best_avg_reward:\n",
        "          best_avg_reward = avg_reward\n",
        "          best_rewards.append(best_avg_reward)\n",
        "  agent.set_epsilon(agent.epsilon*(delta_epsilon**i_episode))\n",
        "  epsilons.append(agent.epsilon)\n",
        "  print(\"\\rEpisode {}/{} || Best average reward {}\".format(i_episode, episodes, best_avg_reward), end=\"\")\n",
        "  print()\n",
        "  sys.stdout.flush()\n",
        "  \n",
        "  if i_episode == episodes: print('\\n')"
      ],
      "execution_count": 37,
      "outputs": [
        {
          "output_type": "stream",
          "text": [
            "Episode 1/1000 || Best average reward -inf\n",
            "Episode 2/1000 || Best average reward -inf\n",
            "Episode 3/1000 || Best average reward -inf\n",
            "Episode 4/1000 || Best average reward -inf\n",
            "Episode 5/1000 || Best average reward -inf\n",
            "Episode 6/1000 || Best average reward -inf\n",
            "Episode 7/1000 || Best average reward -inf\n",
            "Episode 8/1000 || Best average reward -inf\n",
            "Episode 9/1000 || Best average reward -inf\n",
            "Episode 10/1000 || Best average reward -inf\n",
            "Episode 11/1000 || Best average reward -inf\n",
            "Episode 12/1000 || Best average reward -inf\n",
            "Episode 13/1000 || Best average reward -inf\n",
            "Episode 14/1000 || Best average reward -inf\n",
            "Episode 15/1000 || Best average reward -inf\n",
            "Episode 16/1000 || Best average reward -inf\n",
            "Episode 17/1000 || Best average reward -inf\n",
            "Episode 18/1000 || Best average reward -inf\n",
            "Episode 19/1000 || Best average reward -inf\n",
            "Episode 20/1000 || Best average reward -inf\n",
            "Episode 21/1000 || Best average reward -inf\n",
            "Episode 22/1000 || Best average reward -inf\n",
            "Episode 23/1000 || Best average reward -inf\n",
            "Episode 24/1000 || Best average reward -inf\n",
            "Episode 25/1000 || Best average reward -inf\n",
            "Episode 26/1000 || Best average reward -inf\n",
            "Episode 27/1000 || Best average reward -inf\n",
            "Episode 28/1000 || Best average reward -inf\n",
            "Episode 29/1000 || Best average reward -inf\n",
            "Episode 30/1000 || Best average reward -inf\n",
            "Episode 31/1000 || Best average reward -inf\n",
            "Episode 32/1000 || Best average reward -inf\n",
            "Episode 33/1000 || Best average reward -inf\n",
            "Episode 34/1000 || Best average reward -inf\n",
            "Episode 35/1000 || Best average reward -inf\n",
            "Episode 36/1000 || Best average reward -inf\n",
            "Episode 37/1000 || Best average reward -inf\n",
            "Episode 38/1000 || Best average reward -inf\n",
            "Episode 39/1000 || Best average reward -inf\n",
            "Episode 40/1000 || Best average reward -inf\n",
            "Episode 41/1000 || Best average reward -inf\n",
            "Episode 42/1000 || Best average reward -inf\n",
            "Episode 43/1000 || Best average reward -inf\n",
            "Episode 44/1000 || Best average reward -inf\n",
            "Episode 45/1000 || Best average reward -inf\n",
            "Episode 46/1000 || Best average reward -inf\n",
            "Episode 47/1000 || Best average reward -inf\n",
            "Episode 48/1000 || Best average reward -inf\n",
            "Episode 49/1000 || Best average reward -inf\n",
            "Episode 50/1000 || Best average reward -inf\n",
            "Episode 51/1000 || Best average reward -inf\n",
            "Episode 52/1000 || Best average reward -inf\n",
            "Episode 53/1000 || Best average reward -inf\n",
            "Episode 54/1000 || Best average reward -inf\n",
            "Episode 55/1000 || Best average reward -inf\n",
            "Episode 56/1000 || Best average reward -inf\n",
            "Episode 57/1000 || Best average reward -inf\n",
            "Episode 58/1000 || Best average reward -inf\n",
            "Episode 59/1000 || Best average reward -inf\n",
            "Episode 60/1000 || Best average reward -inf\n",
            "Episode 61/1000 || Best average reward -inf\n",
            "Episode 62/1000 || Best average reward -inf\n",
            "Episode 63/1000 || Best average reward -inf\n",
            "Episode 64/1000 || Best average reward -inf\n",
            "Episode 65/1000 || Best average reward -inf\n",
            "Episode 66/1000 || Best average reward -inf\n",
            "Episode 67/1000 || Best average reward -inf\n",
            "Episode 68/1000 || Best average reward -inf\n",
            "Episode 69/1000 || Best average reward -inf\n",
            "Episode 70/1000 || Best average reward -inf\n",
            "Episode 71/1000 || Best average reward -inf\n",
            "Episode 72/1000 || Best average reward -inf\n",
            "Episode 73/1000 || Best average reward -inf\n",
            "Episode 74/1000 || Best average reward -inf\n",
            "Episode 75/1000 || Best average reward -inf\n",
            "Episode 76/1000 || Best average reward -inf\n",
            "Episode 77/1000 || Best average reward -inf\n",
            "Episode 78/1000 || Best average reward -inf\n",
            "Episode 79/1000 || Best average reward -inf\n",
            "Episode 80/1000 || Best average reward -inf\n",
            "Episode 81/1000 || Best average reward -inf\n",
            "Episode 82/1000 || Best average reward -inf\n",
            "Episode 83/1000 || Best average reward -inf\n",
            "Episode 84/1000 || Best average reward -inf\n",
            "Episode 85/1000 || Best average reward -inf\n",
            "Episode 86/1000 || Best average reward -inf\n",
            "Episode 87/1000 || Best average reward -inf\n",
            "Episode 88/1000 || Best average reward -inf\n",
            "Episode 89/1000 || Best average reward -inf\n",
            "Episode 90/1000 || Best average reward -inf\n",
            "Episode 91/1000 || Best average reward -inf\n",
            "Episode 92/1000 || Best average reward -inf\n",
            "Episode 93/1000 || Best average reward -inf\n",
            "Episode 94/1000 || Best average reward -inf\n",
            "Episode 95/1000 || Best average reward -inf\n",
            "Episode 96/1000 || Best average reward -inf\n",
            "Episode 97/1000 || Best average reward -inf\n",
            "Episode 98/1000 || Best average reward -inf\n",
            "Episode 99/1000 || Best average reward -inf\n",
            "Episode 100/1000 || Best average reward 0.57\n",
            "Episode 101/1000 || Best average reward 0.59\n",
            "Episode 102/1000 || Best average reward 0.59\n",
            "Episode 103/1000 || Best average reward 0.61\n",
            "Episode 104/1000 || Best average reward 0.61\n",
            "Episode 105/1000 || Best average reward 0.63\n",
            "Episode 106/1000 || Best average reward 0.67\n",
            "Episode 107/1000 || Best average reward 0.77\n",
            "Episode 108/1000 || Best average reward 0.87\n",
            "Episode 109/1000 || Best average reward 0.89\n",
            "Episode 110/1000 || Best average reward 0.93\n",
            "Episode 111/1000 || Best average reward 0.95\n",
            "Episode 112/1000 || Best average reward 1.03\n",
            "Episode 113/1000 || Best average reward 1.05\n",
            "Episode 114/1000 || Best average reward 1.09\n",
            "Episode 115/1000 || Best average reward 1.09\n",
            "Episode 116/1000 || Best average reward 1.09\n",
            "Episode 117/1000 || Best average reward 1.13\n",
            "Episode 118/1000 || Best average reward 1.13\n",
            "Episode 119/1000 || Best average reward 1.18\n",
            "Episode 120/1000 || Best average reward 1.22\n",
            "Episode 121/1000 || Best average reward 1.24\n",
            "Episode 122/1000 || Best average reward 1.26\n",
            "Episode 123/1000 || Best average reward 1.28\n",
            "Episode 124/1000 || Best average reward 1.28\n",
            "Episode 125/1000 || Best average reward 1.28\n",
            "Episode 126/1000 || Best average reward 1.32\n",
            "Episode 127/1000 || Best average reward 1.36\n",
            "Episode 128/1000 || Best average reward 1.4\n",
            "Episode 129/1000 || Best average reward 1.44\n",
            "Episode 130/1000 || Best average reward 1.52\n",
            "Episode 131/1000 || Best average reward 1.54\n",
            "Episode 132/1000 || Best average reward 1.64\n",
            "Episode 133/1000 || Best average reward 1.73\n",
            "Episode 134/1000 || Best average reward 1.79\n",
            "Episode 135/1000 || Best average reward 1.79\n",
            "Episode 136/1000 || Best average reward 1.83\n",
            "Episode 137/1000 || Best average reward 1.92\n",
            "Episode 138/1000 || Best average reward 2.06\n",
            "Episode 139/1000 || Best average reward 2.06\n",
            "Episode 140/1000 || Best average reward 2.12\n",
            "Episode 141/1000 || Best average reward 2.16\n",
            "Episode 142/1000 || Best average reward 2.2\n",
            "Episode 143/1000 || Best average reward 2.29\n",
            "Episode 144/1000 || Best average reward 2.35\n",
            "Episode 145/1000 || Best average reward 2.41\n",
            "Episode 146/1000 || Best average reward 2.45\n",
            "Episode 147/1000 || Best average reward 2.51\n",
            "Episode 148/1000 || Best average reward 2.57\n",
            "Episode 149/1000 || Best average reward 2.57\n",
            "Episode 150/1000 || Best average reward 2.61\n",
            "Episode 151/1000 || Best average reward 2.65\n",
            "Episode 152/1000 || Best average reward 2.69\n",
            "Episode 153/1000 || Best average reward 2.75\n",
            "Episode 154/1000 || Best average reward 2.83\n",
            "Episode 155/1000 || Best average reward 2.96\n",
            "Episode 156/1000 || Best average reward 3.03\n",
            "Episode 157/1000 || Best average reward 3.11\n",
            "Episode 158/1000 || Best average reward 3.18\n",
            "Episode 159/1000 || Best average reward 3.22\n",
            "Episode 160/1000 || Best average reward 3.3\n",
            "Episode 161/1000 || Best average reward 3.4\n",
            "Episode 162/1000 || Best average reward 3.46\n",
            "Episode 163/1000 || Best average reward 3.52\n",
            "Episode 164/1000 || Best average reward 3.6\n",
            "Episode 165/1000 || Best average reward 3.63\n",
            "Episode 166/1000 || Best average reward 3.71\n",
            "Episode 167/1000 || Best average reward 3.81\n",
            "Episode 168/1000 || Best average reward 3.83\n",
            "Episode 169/1000 || Best average reward 3.89\n",
            "Episode 170/1000 || Best average reward 3.96\n",
            "Episode 171/1000 || Best average reward 3.98\n",
            "Episode 172/1000 || Best average reward 4.05\n",
            "Episode 173/1000 || Best average reward 4.07\n",
            "Episode 174/1000 || Best average reward 4.09\n",
            "Episode 175/1000 || Best average reward 4.12\n",
            "Episode 176/1000 || Best average reward 4.18\n",
            "Episode 177/1000 || Best average reward 4.26\n",
            "Episode 178/1000 || Best average reward 4.35\n",
            "Episode 179/1000 || Best average reward 4.44\n",
            "Episode 180/1000 || Best average reward 4.52\n",
            "Episode 181/1000 || Best average reward 4.57\n",
            "Episode 182/1000 || Best average reward 4.62\n",
            "Episode 183/1000 || Best average reward 4.68\n",
            "Episode 184/1000 || Best average reward 4.75\n",
            "Episode 185/1000 || Best average reward 4.79\n",
            "Episode 186/1000 || Best average reward 4.79\n",
            "Episode 187/1000 || Best average reward 4.82\n",
            "Episode 188/1000 || Best average reward 4.83\n",
            "Episode 189/1000 || Best average reward 4.83\n",
            "Episode 190/1000 || Best average reward 4.89\n",
            "Episode 191/1000 || Best average reward 4.97\n",
            "Episode 192/1000 || Best average reward 5.0\n",
            "Episode 193/1000 || Best average reward 5.06\n",
            "Episode 194/1000 || Best average reward 5.1\n",
            "Episode 195/1000 || Best average reward 5.14\n",
            "Episode 196/1000 || Best average reward 5.14\n",
            "Episode 197/1000 || Best average reward 5.2\n",
            "Episode 198/1000 || Best average reward 5.27\n",
            "Episode 199/1000 || Best average reward 5.38\n",
            "Episode 200/1000 || Best average reward 5.4\n",
            "Episode 201/1000 || Best average reward 5.44\n",
            "Episode 202/1000 || Best average reward 5.53\n",
            "Episode 203/1000 || Best average reward 5.57\n",
            "Episode 204/1000 || Best average reward 5.62\n",
            "Episode 205/1000 || Best average reward 5.62\n",
            "Episode 206/1000 || Best average reward 5.68\n",
            "Episode 207/1000 || Best average reward 5.69\n",
            "Episode 208/1000 || Best average reward 5.69\n",
            "Episode 209/1000 || Best average reward 5.77\n",
            "Episode 210/1000 || Best average reward 5.86\n",
            "Episode 211/1000 || Best average reward 5.93\n",
            "Episode 212/1000 || Best average reward 5.93\n",
            "Episode 213/1000 || Best average reward 5.95\n",
            "Episode 214/1000 || Best average reward 5.97\n",
            "Episode 215/1000 || Best average reward 6.06\n",
            "Episode 216/1000 || Best average reward 6.13\n",
            "Episode 217/1000 || Best average reward 6.13\n",
            "Episode 218/1000 || Best average reward 6.22\n",
            "Episode 219/1000 || Best average reward 6.22\n",
            "Episode 220/1000 || Best average reward 6.22\n",
            "Episode 221/1000 || Best average reward 6.26\n",
            "Episode 222/1000 || Best average reward 6.29\n",
            "Episode 223/1000 || Best average reward 6.33\n",
            "Episode 224/1000 || Best average reward 6.44\n",
            "Episode 225/1000 || Best average reward 6.47\n",
            "Episode 226/1000 || Best average reward 6.5\n",
            "Episode 227/1000 || Best average reward 6.54\n",
            "Episode 228/1000 || Best average reward 6.56\n",
            "Episode 229/1000 || Best average reward 6.57\n",
            "Episode 230/1000 || Best average reward 6.58\n",
            "Episode 231/1000 || Best average reward 6.61\n",
            "Episode 232/1000 || Best average reward 6.62\n",
            "Episode 233/1000 || Best average reward 6.62\n",
            "Episode 234/1000 || Best average reward 6.69\n",
            "Episode 235/1000 || Best average reward 6.73\n",
            "Episode 236/1000 || Best average reward 6.75\n",
            "Episode 237/1000 || Best average reward 6.75\n",
            "Episode 238/1000 || Best average reward 6.76\n",
            "Episode 239/1000 || Best average reward 6.81\n",
            "Episode 240/1000 || Best average reward 6.84\n",
            "Episode 241/1000 || Best average reward 6.87\n",
            "Episode 242/1000 || Best average reward 6.9\n",
            "Episode 243/1000 || Best average reward 6.9\n",
            "Episode 244/1000 || Best average reward 6.93\n",
            "Episode 245/1000 || Best average reward 6.94\n",
            "Episode 246/1000 || Best average reward 6.97\n",
            "Episode 247/1000 || Best average reward 7.0\n",
            "Episode 248/1000 || Best average reward 7.03\n",
            "Episode 249/1000 || Best average reward 7.08\n",
            "Episode 250/1000 || Best average reward 7.09\n",
            "Episode 251/1000 || Best average reward 7.12\n",
            "Episode 252/1000 || Best average reward 7.15\n",
            "Episode 253/1000 || Best average reward 7.18\n",
            "Episode 254/1000 || Best average reward 7.19\n",
            "Episode 255/1000 || Best average reward 7.19\n",
            "Episode 256/1000 || Best average reward 7.19\n",
            "Episode 257/1000 || Best average reward 7.2\n",
            "Episode 258/1000 || Best average reward 7.2\n",
            "Episode 259/1000 || Best average reward 7.24\n",
            "Episode 260/1000 || Best average reward 7.25\n",
            "Episode 261/1000 || Best average reward 7.26\n",
            "Episode 262/1000 || Best average reward 7.29\n",
            "Episode 263/1000 || Best average reward 7.34\n",
            "Episode 264/1000 || Best average reward 7.39\n",
            "Episode 265/1000 || Best average reward 7.39\n",
            "Episode 266/1000 || Best average reward 7.4\n",
            "Episode 267/1000 || Best average reward 7.4\n",
            "Episode 268/1000 || Best average reward 7.41\n",
            "Episode 269/1000 || Best average reward 7.42\n",
            "Episode 270/1000 || Best average reward 7.42\n",
            "Episode 271/1000 || Best average reward 7.43\n",
            "Episode 272/1000 || Best average reward 7.43\n",
            "Episode 273/1000 || Best average reward 7.46\n",
            "Episode 274/1000 || Best average reward 7.51\n",
            "Episode 275/1000 || Best average reward 7.51\n",
            "Episode 276/1000 || Best average reward 7.51\n",
            "Episode 277/1000 || Best average reward 7.52\n",
            "Episode 278/1000 || Best average reward 7.52\n",
            "Episode 279/1000 || Best average reward 7.52\n",
            "Episode 280/1000 || Best average reward 7.53\n",
            "Episode 281/1000 || Best average reward 7.53\n",
            "Episode 282/1000 || Best average reward 7.53\n",
            "Episode 283/1000 || Best average reward 7.53\n",
            "Episode 284/1000 || Best average reward 7.53\n",
            "Episode 285/1000 || Best average reward 7.53\n",
            "Episode 286/1000 || Best average reward 7.56\n",
            "Episode 287/1000 || Best average reward 7.56\n",
            "Episode 288/1000 || Best average reward 7.56\n",
            "Episode 289/1000 || Best average reward 7.58\n",
            "Episode 290/1000 || Best average reward 7.59\n",
            "Episode 291/1000 || Best average reward 7.62\n",
            "Episode 292/1000 || Best average reward 7.62\n",
            "Episode 293/1000 || Best average reward 7.63\n",
            "Episode 294/1000 || Best average reward 7.64\n",
            "Episode 295/1000 || Best average reward 7.65\n",
            "Episode 296/1000 || Best average reward 7.65\n",
            "Episode 297/1000 || Best average reward 7.66\n",
            "Episode 298/1000 || Best average reward 7.66\n",
            "Episode 299/1000 || Best average reward 7.66\n",
            "Episode 300/1000 || Best average reward 7.69\n",
            "Episode 301/1000 || Best average reward 7.7\n",
            "Episode 302/1000 || Best average reward 7.7\n",
            "Episode 303/1000 || Best average reward 7.71\n",
            "Episode 304/1000 || Best average reward 7.71\n",
            "Episode 305/1000 || Best average reward 7.74\n",
            "Episode 306/1000 || Best average reward 7.75\n",
            "Episode 307/1000 || Best average reward 7.75\n",
            "Episode 308/1000 || Best average reward 7.76\n",
            "Episode 309/1000 || Best average reward 7.77\n",
            "Episode 310/1000 || Best average reward 7.77\n",
            "Episode 311/1000 || Best average reward 7.77\n",
            "Episode 312/1000 || Best average reward 7.8\n",
            "Episode 313/1000 || Best average reward 7.81\n",
            "Episode 314/1000 || Best average reward 7.82\n",
            "Episode 315/1000 || Best average reward 7.82\n",
            "Episode 316/1000 || Best average reward 7.82\n",
            "Episode 317/1000 || Best average reward 7.83\n",
            "Episode 318/1000 || Best average reward 7.83\n",
            "Episode 319/1000 || Best average reward 7.86\n",
            "Episode 320/1000 || Best average reward 7.87\n",
            "Episode 321/1000 || Best average reward 7.87\n",
            "Episode 322/1000 || Best average reward 7.87\n",
            "Episode 323/1000 || Best average reward 7.88\n",
            "Episode 324/1000 || Best average reward 7.88\n",
            "Episode 325/1000 || Best average reward 7.88\n",
            "Episode 326/1000 || Best average reward 7.88\n",
            "Episode 327/1000 || Best average reward 7.89\n",
            "Episode 328/1000 || Best average reward 7.92\n",
            "Episode 329/1000 || Best average reward 7.92\n",
            "Episode 330/1000 || Best average reward 7.92\n",
            "Episode 331/1000 || Best average reward 7.92\n",
            "Episode 332/1000 || Best average reward 7.92\n",
            "Episode 333/1000 || Best average reward 7.92\n",
            "Episode 334/1000 || Best average reward 7.92\n",
            "Episode 335/1000 || Best average reward 7.93\n",
            "Episode 336/1000 || Best average reward 7.94\n",
            "Episode 337/1000 || Best average reward 7.94\n",
            "Episode 338/1000 || Best average reward 7.94\n",
            "Episode 339/1000 || Best average reward 7.94\n",
            "Episode 340/1000 || Best average reward 7.94\n",
            "Episode 341/1000 || Best average reward 7.94\n",
            "Episode 342/1000 || Best average reward 7.94\n",
            "Episode 343/1000 || Best average reward 7.94\n",
            "Episode 344/1000 || Best average reward 7.94\n",
            "Episode 345/1000 || Best average reward 7.94\n",
            "Episode 346/1000 || Best average reward 7.94\n",
            "Episode 347/1000 || Best average reward 7.94\n",
            "Episode 348/1000 || Best average reward 7.94\n",
            "Episode 349/1000 || Best average reward 7.94\n",
            "Episode 350/1000 || Best average reward 7.94\n",
            "Episode 351/1000 || Best average reward 7.94\n",
            "Episode 352/1000 || Best average reward 7.94\n",
            "Episode 353/1000 || Best average reward 7.94\n",
            "Episode 354/1000 || Best average reward 7.94\n",
            "Episode 355/1000 || Best average reward 7.94\n",
            "Episode 356/1000 || Best average reward 7.94\n",
            "Episode 357/1000 || Best average reward 7.94\n",
            "Episode 358/1000 || Best average reward 7.94\n",
            "Episode 359/1000 || Best average reward 7.94\n",
            "Episode 360/1000 || Best average reward 7.94\n",
            "Episode 361/1000 || Best average reward 7.94\n",
            "Episode 362/1000 || Best average reward 7.94\n",
            "Episode 363/1000 || Best average reward 7.94\n",
            "Episode 364/1000 || Best average reward 7.94\n",
            "Episode 365/1000 || Best average reward 7.94\n",
            "Episode 366/1000 || Best average reward 7.94\n",
            "Episode 367/1000 || Best average reward 7.94\n",
            "Episode 368/1000 || Best average reward 7.94\n",
            "Episode 369/1000 || Best average reward 7.94\n",
            "Episode 370/1000 || Best average reward 7.94\n",
            "Episode 371/1000 || Best average reward 7.94\n",
            "Episode 372/1000 || Best average reward 7.94\n",
            "Episode 373/1000 || Best average reward 7.94\n",
            "Episode 374/1000 || Best average reward 7.94\n",
            "Episode 375/1000 || Best average reward 7.94\n",
            "Episode 376/1000 || Best average reward 7.95\n",
            "Episode 377/1000 || Best average reward 7.95\n",
            "Episode 378/1000 || Best average reward 7.95\n",
            "Episode 379/1000 || Best average reward 7.95\n",
            "Episode 380/1000 || Best average reward 7.95\n",
            "Episode 381/1000 || Best average reward 7.95\n",
            "Episode 382/1000 || Best average reward 7.95\n",
            "Episode 383/1000 || Best average reward 7.95\n",
            "Episode 384/1000 || Best average reward 7.95\n",
            "Episode 385/1000 || Best average reward 7.96\n",
            "Episode 386/1000 || Best average reward 7.96\n",
            "Episode 387/1000 || Best average reward 7.97\n",
            "Episode 388/1000 || Best average reward 7.97\n",
            "Episode 389/1000 || Best average reward 7.97\n",
            "Episode 390/1000 || Best average reward 7.97\n",
            "Episode 391/1000 || Best average reward 7.97\n",
            "Episode 392/1000 || Best average reward 7.97\n",
            "Episode 393/1000 || Best average reward 7.97\n",
            "Episode 394/1000 || Best average reward 7.97\n",
            "Episode 395/1000 || Best average reward 7.97\n",
            "Episode 396/1000 || Best average reward 7.97\n",
            "Episode 397/1000 || Best average reward 7.97\n",
            "Episode 398/1000 || Best average reward 7.97\n",
            "Episode 399/1000 || Best average reward 7.97\n",
            "Episode 400/1000 || Best average reward 7.97\n",
            "Episode 401/1000 || Best average reward 7.97\n",
            "Episode 402/1000 || Best average reward 7.97\n",
            "Episode 403/1000 || Best average reward 7.97\n",
            "Episode 404/1000 || Best average reward 7.97\n",
            "Episode 405/1000 || Best average reward 7.97\n",
            "Episode 406/1000 || Best average reward 7.97\n",
            "Episode 407/1000 || Best average reward 7.97\n",
            "Episode 408/1000 || Best average reward 7.97\n",
            "Episode 409/1000 || Best average reward 7.97\n",
            "Episode 410/1000 || Best average reward 7.97\n",
            "Episode 411/1000 || Best average reward 7.97\n",
            "Episode 412/1000 || Best average reward 7.97\n",
            "Episode 413/1000 || Best average reward 7.97\n",
            "Episode 414/1000 || Best average reward 7.97\n",
            "Episode 415/1000 || Best average reward 7.97\n",
            "Episode 416/1000 || Best average reward 7.97\n",
            "Episode 417/1000 || Best average reward 7.97\n",
            "Episode 418/1000 || Best average reward 7.97\n",
            "Episode 419/1000 || Best average reward 7.97\n",
            "Episode 420/1000 || Best average reward 7.97\n",
            "Episode 421/1000 || Best average reward 7.97\n",
            "Episode 422/1000 || Best average reward 7.97\n",
            "Episode 423/1000 || Best average reward 7.97\n",
            "Episode 424/1000 || Best average reward 7.97\n",
            "Episode 425/1000 || Best average reward 7.97\n",
            "Episode 426/1000 || Best average reward 7.97\n",
            "Episode 427/1000 || Best average reward 7.97\n",
            "Episode 428/1000 || Best average reward 7.97\n",
            "Episode 429/1000 || Best average reward 7.97\n",
            "Episode 430/1000 || Best average reward 7.97\n",
            "Episode 431/1000 || Best average reward 7.97\n",
            "Episode 432/1000 || Best average reward 7.97\n",
            "Episode 433/1000 || Best average reward 7.97\n",
            "Episode 434/1000 || Best average reward 7.97\n",
            "Episode 435/1000 || Best average reward 7.97\n",
            "Episode 436/1000 || Best average reward 7.97\n",
            "Episode 437/1000 || Best average reward 7.98\n",
            "Episode 438/1000 || Best average reward 7.98\n",
            "Episode 439/1000 || Best average reward 7.99\n",
            "Episode 440/1000 || Best average reward 7.99\n",
            "Episode 441/1000 || Best average reward 7.99\n",
            "Episode 442/1000 || Best average reward 7.99\n",
            "Episode 443/1000 || Best average reward 7.99\n",
            "Episode 444/1000 || Best average reward 7.99\n",
            "Episode 445/1000 || Best average reward 7.99\n",
            "Episode 446/1000 || Best average reward 7.99\n",
            "Episode 447/1000 || Best average reward 7.99\n",
            "Episode 448/1000 || Best average reward 7.99\n",
            "Episode 449/1000 || Best average reward 7.99\n",
            "Episode 450/1000 || Best average reward 7.99\n",
            "Episode 451/1000 || Best average reward 7.99\n",
            "Episode 452/1000 || Best average reward 7.99\n",
            "Episode 453/1000 || Best average reward 7.99\n",
            "Episode 454/1000 || Best average reward 7.99\n",
            "Episode 455/1000 || Best average reward 7.99\n",
            "Episode 456/1000 || Best average reward 7.99\n",
            "Episode 457/1000 || Best average reward 7.99\n",
            "Episode 458/1000 || Best average reward 7.99\n",
            "Episode 459/1000 || Best average reward 7.99\n",
            "Episode 460/1000 || Best average reward 7.99\n",
            "Episode 461/1000 || Best average reward 7.99\n",
            "Episode 462/1000 || Best average reward 7.99\n",
            "Episode 463/1000 || Best average reward 7.99\n",
            "Episode 464/1000 || Best average reward 7.99\n",
            "Episode 465/1000 || Best average reward 7.99\n",
            "Episode 466/1000 || Best average reward 7.99\n",
            "Episode 467/1000 || Best average reward 7.99\n",
            "Episode 468/1000 || Best average reward 7.99\n",
            "Episode 469/1000 || Best average reward 7.99\n",
            "Episode 470/1000 || Best average reward 7.99\n",
            "Episode 471/1000 || Best average reward 7.99\n",
            "Episode 472/1000 || Best average reward 7.99\n",
            "Episode 473/1000 || Best average reward 7.99\n",
            "Episode 474/1000 || Best average reward 7.99\n",
            "Episode 475/1000 || Best average reward 7.99\n",
            "Episode 476/1000 || Best average reward 7.99\n",
            "Episode 477/1000 || Best average reward 8.0\n",
            "Episode 478/1000 || Best average reward 8.0\n",
            "Episode 479/1000 || Best average reward 8.0\n",
            "Episode 480/1000 || Best average reward 8.0\n",
            "Episode 481/1000 || Best average reward 8.0\n",
            "Episode 482/1000 || Best average reward 8.0\n",
            "Episode 483/1000 || Best average reward 8.0\n",
            "Episode 484/1000 || Best average reward 8.0\n",
            "Episode 485/1000 || Best average reward 8.0\n",
            "Episode 486/1000 || Best average reward 8.0\n",
            "Episode 487/1000 || Best average reward 8.0\n",
            "Episode 488/1000 || Best average reward 8.0\n",
            "Episode 489/1000 || Best average reward 8.0\n",
            "Episode 490/1000 || Best average reward 8.0\n",
            "Episode 491/1000 || Best average reward 8.0\n",
            "Episode 492/1000 || Best average reward 8.0\n",
            "Episode 493/1000 || Best average reward 8.0\n",
            "Episode 494/1000 || Best average reward 8.0\n",
            "Episode 495/1000 || Best average reward 8.0\n",
            "Episode 496/1000 || Best average reward 8.0\n",
            "Episode 497/1000 || Best average reward 8.0\n",
            "Episode 498/1000 || Best average reward 8.0\n",
            "Episode 499/1000 || Best average reward 8.0\n",
            "Episode 500/1000 || Best average reward 8.0\n",
            "Episode 501/1000 || Best average reward 8.0\n",
            "Episode 502/1000 || Best average reward 8.0\n",
            "Episode 503/1000 || Best average reward 8.0\n",
            "Episode 504/1000 || Best average reward 8.0\n",
            "Episode 505/1000 || Best average reward 8.0\n",
            "Episode 506/1000 || Best average reward 8.0\n",
            "Episode 507/1000 || Best average reward 8.0\n",
            "Episode 508/1000 || Best average reward 8.0\n",
            "Episode 509/1000 || Best average reward 8.0\n",
            "Episode 510/1000 || Best average reward 8.0\n",
            "Episode 511/1000 || Best average reward 8.0\n",
            "Episode 512/1000 || Best average reward 8.0\n",
            "Episode 513/1000 || Best average reward 8.0\n",
            "Episode 514/1000 || Best average reward 8.0\n",
            "Episode 515/1000 || Best average reward 8.0\n",
            "Episode 516/1000 || Best average reward 8.0\n",
            "Episode 517/1000 || Best average reward 8.0\n",
            "Episode 518/1000 || Best average reward 8.0\n",
            "Episode 519/1000 || Best average reward 8.0\n",
            "Episode 520/1000 || Best average reward 8.0\n",
            "Episode 521/1000 || Best average reward 8.0\n",
            "Episode 522/1000 || Best average reward 8.0\n",
            "Episode 523/1000 || Best average reward 8.0\n",
            "Episode 524/1000 || Best average reward 8.0\n",
            "Episode 525/1000 || Best average reward 8.0\n",
            "Episode 526/1000 || Best average reward 8.0\n",
            "Episode 527/1000 || Best average reward 8.0\n",
            "Episode 528/1000 || Best average reward 8.0\n",
            "Episode 529/1000 || Best average reward 8.0\n",
            "Episode 530/1000 || Best average reward 8.0\n",
            "Episode 531/1000 || Best average reward 8.0\n",
            "Episode 532/1000 || Best average reward 8.0\n",
            "Episode 533/1000 || Best average reward 8.0\n",
            "Episode 534/1000 || Best average reward 8.0\n",
            "Episode 535/1000 || Best average reward 8.0\n",
            "Episode 536/1000 || Best average reward 8.0\n",
            "Episode 537/1000 || Best average reward 8.0\n",
            "Episode 538/1000 || Best average reward 8.0\n",
            "Episode 539/1000 || Best average reward 8.0\n",
            "Episode 540/1000 || Best average reward 8.0\n",
            "Episode 541/1000 || Best average reward 8.0\n",
            "Episode 542/1000 || Best average reward 8.0\n",
            "Episode 543/1000 || Best average reward 8.0\n",
            "Episode 544/1000 || Best average reward 8.0\n",
            "Episode 545/1000 || Best average reward 8.0\n",
            "Episode 546/1000 || Best average reward 8.0\n",
            "Episode 547/1000 || Best average reward 8.0\n",
            "Episode 548/1000 || Best average reward 8.0\n",
            "Episode 549/1000 || Best average reward 8.0\n",
            "Episode 550/1000 || Best average reward 8.0\n",
            "Episode 551/1000 || Best average reward 8.0\n",
            "Episode 552/1000 || Best average reward 8.0\n",
            "Episode 553/1000 || Best average reward 8.0\n",
            "Episode 554/1000 || Best average reward 8.0\n",
            "Episode 555/1000 || Best average reward 8.0\n",
            "Episode 556/1000 || Best average reward 8.0\n",
            "Episode 557/1000 || Best average reward 8.0\n",
            "Episode 558/1000 || Best average reward 8.0\n",
            "Episode 559/1000 || Best average reward 8.0\n",
            "Episode 560/1000 || Best average reward 8.0\n",
            "Episode 561/1000 || Best average reward 8.0\n",
            "Episode 562/1000 || Best average reward 8.0\n",
            "Episode 563/1000 || Best average reward 8.0\n",
            "Episode 564/1000 || Best average reward 8.0\n",
            "Episode 565/1000 || Best average reward 8.0\n",
            "Episode 566/1000 || Best average reward 8.0\n",
            "Episode 567/1000 || Best average reward 8.0\n",
            "Episode 568/1000 || Best average reward 8.0\n",
            "Episode 569/1000 || Best average reward 8.0\n",
            "Episode 570/1000 || Best average reward 8.0\n",
            "Episode 571/1000 || Best average reward 8.0\n",
            "Episode 572/1000 || Best average reward 8.0\n",
            "Episode 573/1000 || Best average reward 8.0\n",
            "Episode 574/1000 || Best average reward 8.0\n",
            "Episode 575/1000 || Best average reward 8.0\n",
            "Episode 576/1000 || Best average reward 8.0\n",
            "Episode 577/1000 || Best average reward 8.0\n",
            "Episode 578/1000 || Best average reward 8.0\n",
            "Episode 579/1000 || Best average reward 8.0\n",
            "Episode 580/1000 || Best average reward 8.0\n",
            "Episode 581/1000 || Best average reward 8.0\n",
            "Episode 582/1000 || Best average reward 8.0\n",
            "Episode 583/1000 || Best average reward 8.0\n",
            "Episode 584/1000 || Best average reward 8.0\n",
            "Episode 585/1000 || Best average reward 8.0\n",
            "Episode 586/1000 || Best average reward 8.0\n",
            "Episode 587/1000 || Best average reward 8.0\n",
            "Episode 588/1000 || Best average reward 8.0\n",
            "Episode 589/1000 || Best average reward 8.0\n",
            "Episode 590/1000 || Best average reward 8.0\n",
            "Episode 591/1000 || Best average reward 8.0\n",
            "Episode 592/1000 || Best average reward 8.0\n",
            "Episode 593/1000 || Best average reward 8.0\n",
            "Episode 594/1000 || Best average reward 8.0\n",
            "Episode 595/1000 || Best average reward 8.0\n",
            "Episode 596/1000 || Best average reward 8.0\n",
            "Episode 597/1000 || Best average reward 8.0\n",
            "Episode 598/1000 || Best average reward 8.0\n",
            "Episode 599/1000 || Best average reward 8.0\n",
            "Episode 600/1000 || Best average reward 8.0\n",
            "Episode 601/1000 || Best average reward 8.0\n",
            "Episode 602/1000 || Best average reward 8.0\n",
            "Episode 603/1000 || Best average reward 8.0\n",
            "Episode 604/1000 || Best average reward 8.0\n",
            "Episode 605/1000 || Best average reward 8.0\n",
            "Episode 606/1000 || Best average reward 8.0\n",
            "Episode 607/1000 || Best average reward 8.0\n",
            "Episode 608/1000 || Best average reward 8.0\n",
            "Episode 609/1000 || Best average reward 8.0\n",
            "Episode 610/1000 || Best average reward 8.0\n",
            "Episode 611/1000 || Best average reward 8.0\n",
            "Episode 612/1000 || Best average reward 8.0\n",
            "Episode 613/1000 || Best average reward 8.0\n",
            "Episode 614/1000 || Best average reward 8.0\n",
            "Episode 615/1000 || Best average reward 8.0\n",
            "Episode 616/1000 || Best average reward 8.0\n",
            "Episode 617/1000 || Best average reward 8.0\n",
            "Episode 618/1000 || Best average reward 8.0\n",
            "Episode 619/1000 || Best average reward 8.0\n",
            "Episode 620/1000 || Best average reward 8.0\n",
            "Episode 621/1000 || Best average reward 8.0\n",
            "Episode 622/1000 || Best average reward 8.0\n",
            "Episode 623/1000 || Best average reward 8.0\n",
            "Episode 624/1000 || Best average reward 8.0\n",
            "Episode 625/1000 || Best average reward 8.0\n",
            "Episode 626/1000 || Best average reward 8.0\n",
            "Episode 627/1000 || Best average reward 8.0\n",
            "Episode 628/1000 || Best average reward 8.0\n",
            "Episode 629/1000 || Best average reward 8.0\n",
            "Episode 630/1000 || Best average reward 8.0\n",
            "Episode 631/1000 || Best average reward 8.0\n",
            "Episode 632/1000 || Best average reward 8.0\n",
            "Episode 633/1000 || Best average reward 8.0\n",
            "Episode 634/1000 || Best average reward 8.0\n",
            "Episode 635/1000 || Best average reward 8.0\n",
            "Episode 636/1000 || Best average reward 8.0\n",
            "Episode 637/1000 || Best average reward 8.0\n",
            "Episode 638/1000 || Best average reward 8.0\n",
            "Episode 639/1000 || Best average reward 8.0\n",
            "Episode 640/1000 || Best average reward 8.0\n",
            "Episode 641/1000 || Best average reward 8.0\n",
            "Episode 642/1000 || Best average reward 8.0\n",
            "Episode 643/1000 || Best average reward 8.0\n",
            "Episode 644/1000 || Best average reward 8.0\n",
            "Episode 645/1000 || Best average reward 8.0\n",
            "Episode 646/1000 || Best average reward 8.0\n",
            "Episode 647/1000 || Best average reward 8.0\n",
            "Episode 648/1000 || Best average reward 8.0\n",
            "Episode 649/1000 || Best average reward 8.0\n",
            "Episode 650/1000 || Best average reward 8.0\n",
            "Episode 651/1000 || Best average reward 8.0\n",
            "Episode 652/1000 || Best average reward 8.0\n",
            "Episode 653/1000 || Best average reward 8.0\n",
            "Episode 654/1000 || Best average reward 8.0\n",
            "Episode 655/1000 || Best average reward 8.0\n",
            "Episode 656/1000 || Best average reward 8.0\n",
            "Episode 657/1000 || Best average reward 8.0\n",
            "Episode 658/1000 || Best average reward 8.0\n",
            "Episode 659/1000 || Best average reward 8.0\n",
            "Episode 660/1000 || Best average reward 8.0\n",
            "Episode 661/1000 || Best average reward 8.0\n",
            "Episode 662/1000 || Best average reward 8.0\n",
            "Episode 663/1000 || Best average reward 8.0\n",
            "Episode 664/1000 || Best average reward 8.0\n",
            "Episode 665/1000 || Best average reward 8.0\n",
            "Episode 666/1000 || Best average reward 8.0\n",
            "Episode 667/1000 || Best average reward 8.0\n",
            "Episode 668/1000 || Best average reward 8.0\n",
            "Episode 669/1000 || Best average reward 8.0\n",
            "Episode 670/1000 || Best average reward 8.0\n",
            "Episode 671/1000 || Best average reward 8.0\n",
            "Episode 672/1000 || Best average reward 8.0\n",
            "Episode 673/1000 || Best average reward 8.0\n",
            "Episode 674/1000 || Best average reward 8.0\n",
            "Episode 675/1000 || Best average reward 8.0\n",
            "Episode 676/1000 || Best average reward 8.0\n",
            "Episode 677/1000 || Best average reward 8.0\n",
            "Episode 678/1000 || Best average reward 8.0\n",
            "Episode 679/1000 || Best average reward 8.0\n",
            "Episode 680/1000 || Best average reward 8.0\n",
            "Episode 681/1000 || Best average reward 8.0\n",
            "Episode 682/1000 || Best average reward 8.0\n",
            "Episode 683/1000 || Best average reward 8.0\n",
            "Episode 684/1000 || Best average reward 8.0\n",
            "Episode 685/1000 || Best average reward 8.0\n",
            "Episode 686/1000 || Best average reward 8.0\n",
            "Episode 687/1000 || Best average reward 8.0\n",
            "Episode 688/1000 || Best average reward 8.0\n",
            "Episode 689/1000 || Best average reward 8.0\n",
            "Episode 690/1000 || Best average reward 8.0\n",
            "Episode 691/1000 || Best average reward 8.0\n",
            "Episode 692/1000 || Best average reward 8.0\n",
            "Episode 693/1000 || Best average reward 8.0\n",
            "Episode 694/1000 || Best average reward 8.0\n",
            "Episode 695/1000 || Best average reward 8.0\n",
            "Episode 696/1000 || Best average reward 8.0\n",
            "Episode 697/1000 || Best average reward 8.0\n",
            "Episode 698/1000 || Best average reward 8.0\n",
            "Episode 699/1000 || Best average reward 8.0\n",
            "Episode 700/1000 || Best average reward 8.0\n",
            "Episode 701/1000 || Best average reward 8.0\n",
            "Episode 702/1000 || Best average reward 8.0\n",
            "Episode 703/1000 || Best average reward 8.0\n",
            "Episode 704/1000 || Best average reward 8.0\n",
            "Episode 705/1000 || Best average reward 8.0\n",
            "Episode 706/1000 || Best average reward 8.0\n",
            "Episode 707/1000 || Best average reward 8.0\n",
            "Episode 708/1000 || Best average reward 8.0\n",
            "Episode 709/1000 || Best average reward 8.0\n",
            "Episode 710/1000 || Best average reward 8.0\n",
            "Episode 711/1000 || Best average reward 8.0\n",
            "Episode 712/1000 || Best average reward 8.0\n",
            "Episode 713/1000 || Best average reward 8.0\n",
            "Episode 714/1000 || Best average reward 8.0\n",
            "Episode 715/1000 || Best average reward 8.0\n",
            "Episode 716/1000 || Best average reward 8.0\n",
            "Episode 717/1000 || Best average reward 8.0\n",
            "Episode 718/1000 || Best average reward 8.0\n",
            "Episode 719/1000 || Best average reward 8.0\n",
            "Episode 720/1000 || Best average reward 8.0\n",
            "Episode 721/1000 || Best average reward 8.0\n",
            "Episode 722/1000 || Best average reward 8.0\n",
            "Episode 723/1000 || Best average reward 8.0\n",
            "Episode 724/1000 || Best average reward 8.0\n",
            "Episode 725/1000 || Best average reward 8.0\n",
            "Episode 726/1000 || Best average reward 8.0\n",
            "Episode 727/1000 || Best average reward 8.0\n",
            "Episode 728/1000 || Best average reward 8.0\n",
            "Episode 729/1000 || Best average reward 8.0\n",
            "Episode 730/1000 || Best average reward 8.0\n",
            "Episode 731/1000 || Best average reward 8.0\n",
            "Episode 732/1000 || Best average reward 8.0\n",
            "Episode 733/1000 || Best average reward 8.0\n",
            "Episode 734/1000 || Best average reward 8.0\n",
            "Episode 735/1000 || Best average reward 8.0\n",
            "Episode 736/1000 || Best average reward 8.0\n",
            "Episode 737/1000 || Best average reward 8.0\n",
            "Episode 738/1000 || Best average reward 8.0\n",
            "Episode 739/1000 || Best average reward 8.0\n",
            "Episode 740/1000 || Best average reward 8.0\n",
            "Episode 741/1000 || Best average reward 8.0\n",
            "Episode 742/1000 || Best average reward 8.0\n",
            "Episode 743/1000 || Best average reward 8.0\n",
            "Episode 744/1000 || Best average reward 8.0\n",
            "Episode 745/1000 || Best average reward 8.0\n",
            "Episode 746/1000 || Best average reward 8.0\n",
            "Episode 747/1000 || Best average reward 8.0\n",
            "Episode 748/1000 || Best average reward 8.0\n",
            "Episode 749/1000 || Best average reward 8.0\n",
            "Episode 750/1000 || Best average reward 8.0\n",
            "Episode 751/1000 || Best average reward 8.0\n",
            "Episode 752/1000 || Best average reward 8.0\n",
            "Episode 753/1000 || Best average reward 8.0\n",
            "Episode 754/1000 || Best average reward 8.0\n",
            "Episode 755/1000 || Best average reward 8.0\n",
            "Episode 756/1000 || Best average reward 8.0\n",
            "Episode 757/1000 || Best average reward 8.0\n",
            "Episode 758/1000 || Best average reward 8.0\n",
            "Episode 759/1000 || Best average reward 8.0\n",
            "Episode 760/1000 || Best average reward 8.0\n",
            "Episode 761/1000 || Best average reward 8.0\n",
            "Episode 762/1000 || Best average reward 8.0\n",
            "Episode 763/1000 || Best average reward 8.0\n",
            "Episode 764/1000 || Best average reward 8.0\n",
            "Episode 765/1000 || Best average reward 8.0\n",
            "Episode 766/1000 || Best average reward 8.0\n",
            "Episode 767/1000 || Best average reward 8.0\n",
            "Episode 768/1000 || Best average reward 8.0\n",
            "Episode 769/1000 || Best average reward 8.0\n",
            "Episode 770/1000 || Best average reward 8.0\n",
            "Episode 771/1000 || Best average reward 8.0\n",
            "Episode 772/1000 || Best average reward 8.0\n",
            "Episode 773/1000 || Best average reward 8.0\n",
            "Episode 774/1000 || Best average reward 8.0\n",
            "Episode 775/1000 || Best average reward 8.0\n",
            "Episode 776/1000 || Best average reward 8.0\n",
            "Episode 777/1000 || Best average reward 8.0\n",
            "Episode 778/1000 || Best average reward 8.0\n",
            "Episode 779/1000 || Best average reward 8.0\n",
            "Episode 780/1000 || Best average reward 8.0\n",
            "Episode 781/1000 || Best average reward 8.0\n",
            "Episode 782/1000 || Best average reward 8.0\n",
            "Episode 783/1000 || Best average reward 8.0\n",
            "Episode 784/1000 || Best average reward 8.0\n",
            "Episode 785/1000 || Best average reward 8.0\n",
            "Episode 786/1000 || Best average reward 8.0\n",
            "Episode 787/1000 || Best average reward 8.0\n",
            "Episode 788/1000 || Best average reward 8.0\n",
            "Episode 789/1000 || Best average reward 8.0\n",
            "Episode 790/1000 || Best average reward 8.0\n",
            "Episode 791/1000 || Best average reward 8.0\n",
            "Episode 792/1000 || Best average reward 8.0\n",
            "Episode 793/1000 || Best average reward 8.0\n",
            "Episode 794/1000 || Best average reward 8.0\n",
            "Episode 795/1000 || Best average reward 8.0\n",
            "Episode 796/1000 || Best average reward 8.0\n",
            "Episode 797/1000 || Best average reward 8.0\n",
            "Episode 798/1000 || Best average reward 8.0\n",
            "Episode 799/1000 || Best average reward 8.0\n",
            "Episode 800/1000 || Best average reward 8.0\n",
            "Episode 801/1000 || Best average reward 8.0\n",
            "Episode 802/1000 || Best average reward 8.0\n",
            "Episode 803/1000 || Best average reward 8.0\n",
            "Episode 804/1000 || Best average reward 8.0\n",
            "Episode 805/1000 || Best average reward 8.0\n",
            "Episode 806/1000 || Best average reward 8.0\n",
            "Episode 807/1000 || Best average reward 8.0\n",
            "Episode 808/1000 || Best average reward 8.0\n",
            "Episode 809/1000 || Best average reward 8.0\n",
            "Episode 810/1000 || Best average reward 8.0\n",
            "Episode 811/1000 || Best average reward 8.0\n",
            "Episode 812/1000 || Best average reward 8.0\n",
            "Episode 813/1000 || Best average reward 8.0\n",
            "Episode 814/1000 || Best average reward 8.0\n",
            "Episode 815/1000 || Best average reward 8.0\n",
            "Episode 816/1000 || Best average reward 8.0\n",
            "Episode 817/1000 || Best average reward 8.0\n",
            "Episode 818/1000 || Best average reward 8.0\n",
            "Episode 819/1000 || Best average reward 8.0\n",
            "Episode 820/1000 || Best average reward 8.0\n",
            "Episode 821/1000 || Best average reward 8.0\n",
            "Episode 822/1000 || Best average reward 8.0\n",
            "Episode 823/1000 || Best average reward 8.0\n",
            "Episode 824/1000 || Best average reward 8.0\n",
            "Episode 825/1000 || Best average reward 8.0\n",
            "Episode 826/1000 || Best average reward 8.0\n",
            "Episode 827/1000 || Best average reward 8.0\n",
            "Episode 828/1000 || Best average reward 8.0\n",
            "Episode 829/1000 || Best average reward 8.0\n",
            "Episode 830/1000 || Best average reward 8.0\n",
            "Episode 831/1000 || Best average reward 8.0\n",
            "Episode 832/1000 || Best average reward 8.0\n",
            "Episode 833/1000 || Best average reward 8.0\n",
            "Episode 834/1000 || Best average reward 8.0\n",
            "Episode 835/1000 || Best average reward 8.0\n",
            "Episode 836/1000 || Best average reward 8.0\n",
            "Episode 837/1000 || Best average reward 8.0\n",
            "Episode 838/1000 || Best average reward 8.0\n",
            "Episode 839/1000 || Best average reward 8.0\n",
            "Episode 840/1000 || Best average reward 8.0\n",
            "Episode 841/1000 || Best average reward 8.0\n",
            "Episode 842/1000 || Best average reward 8.0\n",
            "Episode 843/1000 || Best average reward 8.0\n",
            "Episode 844/1000 || Best average reward 8.0\n",
            "Episode 845/1000 || Best average reward 8.0\n",
            "Episode 846/1000 || Best average reward 8.0\n",
            "Episode 847/1000 || Best average reward 8.0\n",
            "Episode 848/1000 || Best average reward 8.0\n",
            "Episode 849/1000 || Best average reward 8.0\n",
            "Episode 850/1000 || Best average reward 8.0\n",
            "Episode 851/1000 || Best average reward 8.0\n",
            "Episode 852/1000 || Best average reward 8.0\n",
            "Episode 853/1000 || Best average reward 8.0\n",
            "Episode 854/1000 || Best average reward 8.0\n",
            "Episode 855/1000 || Best average reward 8.0\n",
            "Episode 856/1000 || Best average reward 8.0\n",
            "Episode 857/1000 || Best average reward 8.0\n",
            "Episode 858/1000 || Best average reward 8.0\n",
            "Episode 859/1000 || Best average reward 8.0\n",
            "Episode 860/1000 || Best average reward 8.0\n",
            "Episode 861/1000 || Best average reward 8.0\n",
            "Episode 862/1000 || Best average reward 8.0\n",
            "Episode 863/1000 || Best average reward 8.0\n",
            "Episode 864/1000 || Best average reward 8.0\n",
            "Episode 865/1000 || Best average reward 8.0\n",
            "Episode 866/1000 || Best average reward 8.0\n",
            "Episode 867/1000 || Best average reward 8.0\n",
            "Episode 868/1000 || Best average reward 8.0\n",
            "Episode 869/1000 || Best average reward 8.0\n",
            "Episode 870/1000 || Best average reward 8.0\n",
            "Episode 871/1000 || Best average reward 8.0\n",
            "Episode 872/1000 || Best average reward 8.0\n",
            "Episode 873/1000 || Best average reward 8.0\n",
            "Episode 874/1000 || Best average reward 8.0\n",
            "Episode 875/1000 || Best average reward 8.0\n",
            "Episode 876/1000 || Best average reward 8.0\n",
            "Episode 877/1000 || Best average reward 8.0\n",
            "Episode 878/1000 || Best average reward 8.0\n",
            "Episode 879/1000 || Best average reward 8.0\n",
            "Episode 880/1000 || Best average reward 8.0\n",
            "Episode 881/1000 || Best average reward 8.0\n",
            "Episode 882/1000 || Best average reward 8.0\n",
            "Episode 883/1000 || Best average reward 8.0\n",
            "Episode 884/1000 || Best average reward 8.0\n",
            "Episode 885/1000 || Best average reward 8.0\n",
            "Episode 886/1000 || Best average reward 8.0\n",
            "Episode 887/1000 || Best average reward 8.0\n",
            "Episode 888/1000 || Best average reward 8.0\n",
            "Episode 889/1000 || Best average reward 8.0\n",
            "Episode 890/1000 || Best average reward 8.0\n",
            "Episode 891/1000 || Best average reward 8.0\n",
            "Episode 892/1000 || Best average reward 8.0\n",
            "Episode 893/1000 || Best average reward 8.0\n",
            "Episode 894/1000 || Best average reward 8.0\n",
            "Episode 895/1000 || Best average reward 8.0\n",
            "Episode 896/1000 || Best average reward 8.0\n",
            "Episode 897/1000 || Best average reward 8.0\n",
            "Episode 898/1000 || Best average reward 8.0\n",
            "Episode 899/1000 || Best average reward 8.0\n",
            "Episode 900/1000 || Best average reward 8.0\n",
            "Episode 901/1000 || Best average reward 8.0\n",
            "Episode 902/1000 || Best average reward 8.0\n",
            "Episode 903/1000 || Best average reward 8.0\n",
            "Episode 904/1000 || Best average reward 8.0\n",
            "Episode 905/1000 || Best average reward 8.0\n",
            "Episode 906/1000 || Best average reward 8.0\n",
            "Episode 907/1000 || Best average reward 8.0\n",
            "Episode 908/1000 || Best average reward 8.0\n",
            "Episode 909/1000 || Best average reward 8.0\n",
            "Episode 910/1000 || Best average reward 8.0\n",
            "Episode 911/1000 || Best average reward 8.0\n",
            "Episode 912/1000 || Best average reward 8.0\n",
            "Episode 913/1000 || Best average reward 8.0\n",
            "Episode 914/1000 || Best average reward 8.0\n",
            "Episode 915/1000 || Best average reward 8.0\n",
            "Episode 916/1000 || Best average reward 8.0\n",
            "Episode 917/1000 || Best average reward 8.0\n",
            "Episode 918/1000 || Best average reward 8.0\n",
            "Episode 919/1000 || Best average reward 8.0\n",
            "Episode 920/1000 || Best average reward 8.0\n",
            "Episode 921/1000 || Best average reward 8.0\n",
            "Episode 922/1000 || Best average reward 8.0\n",
            "Episode 923/1000 || Best average reward 8.0\n",
            "Episode 924/1000 || Best average reward 8.0\n",
            "Episode 925/1000 || Best average reward 8.0\n",
            "Episode 926/1000 || Best average reward 8.0\n",
            "Episode 927/1000 || Best average reward 8.0\n",
            "Episode 928/1000 || Best average reward 8.0\n",
            "Episode 929/1000 || Best average reward 8.0\n",
            "Episode 930/1000 || Best average reward 8.0\n",
            "Episode 931/1000 || Best average reward 8.0\n",
            "Episode 932/1000 || Best average reward 8.0\n",
            "Episode 933/1000 || Best average reward 8.0\n",
            "Episode 934/1000 || Best average reward 8.0\n",
            "Episode 935/1000 || Best average reward 8.0\n",
            "Episode 936/1000 || Best average reward 8.0\n",
            "Episode 937/1000 || Best average reward 8.0\n",
            "Episode 938/1000 || Best average reward 8.0\n",
            "Episode 939/1000 || Best average reward 8.0\n",
            "Episode 940/1000 || Best average reward 8.0\n",
            "Episode 941/1000 || Best average reward 8.0\n",
            "Episode 942/1000 || Best average reward 8.0\n",
            "Episode 943/1000 || Best average reward 8.0\n",
            "Episode 944/1000 || Best average reward 8.0\n",
            "Episode 945/1000 || Best average reward 8.0\n",
            "Episode 946/1000 || Best average reward 8.0\n",
            "Episode 947/1000 || Best average reward 8.0\n",
            "Episode 948/1000 || Best average reward 8.0\n",
            "Episode 949/1000 || Best average reward 8.0\n",
            "Episode 950/1000 || Best average reward 8.0\n",
            "Episode 951/1000 || Best average reward 8.0\n",
            "Episode 952/1000 || Best average reward 8.0\n",
            "Episode 953/1000 || Best average reward 8.0\n",
            "Episode 954/1000 || Best average reward 8.0\n",
            "Episode 955/1000 || Best average reward 8.0\n",
            "Episode 956/1000 || Best average reward 8.0\n",
            "Episode 957/1000 || Best average reward 8.0\n",
            "Episode 958/1000 || Best average reward 8.0\n",
            "Episode 959/1000 || Best average reward 8.0\n",
            "Episode 960/1000 || Best average reward 8.0\n",
            "Episode 961/1000 || Best average reward 8.0\n",
            "Episode 962/1000 || Best average reward 8.0\n",
            "Episode 963/1000 || Best average reward 8.0\n",
            "Episode 964/1000 || Best average reward 8.0\n",
            "Episode 965/1000 || Best average reward 8.0\n",
            "Episode 966/1000 || Best average reward 8.0\n",
            "Episode 967/1000 || Best average reward 8.0\n",
            "Episode 968/1000 || Best average reward 8.0\n",
            "Episode 969/1000 || Best average reward 8.0\n",
            "Episode 970/1000 || Best average reward 8.0\n",
            "Episode 971/1000 || Best average reward 8.0\n",
            "Episode 972/1000 || Best average reward 8.0\n",
            "Episode 973/1000 || Best average reward 8.0\n",
            "Episode 974/1000 || Best average reward 8.0\n",
            "Episode 975/1000 || Best average reward 8.0\n",
            "Episode 976/1000 || Best average reward 8.0\n",
            "Episode 977/1000 || Best average reward 8.0\n",
            "Episode 978/1000 || Best average reward 8.0\n",
            "Episode 979/1000 || Best average reward 8.0\n",
            "Episode 980/1000 || Best average reward 8.0\n",
            "Episode 981/1000 || Best average reward 8.0\n",
            "Episode 982/1000 || Best average reward 8.0\n",
            "Episode 983/1000 || Best average reward 8.0\n",
            "Episode 984/1000 || Best average reward 8.0\n",
            "Episode 985/1000 || Best average reward 8.0\n",
            "Episode 986/1000 || Best average reward 8.0\n",
            "Episode 987/1000 || Best average reward 8.0\n",
            "Episode 988/1000 || Best average reward 8.0\n",
            "Episode 989/1000 || Best average reward 8.0\n",
            "Episode 990/1000 || Best average reward 8.0\n",
            "Episode 991/1000 || Best average reward 8.0\n",
            "Episode 992/1000 || Best average reward 8.0\n",
            "Episode 993/1000 || Best average reward 8.0\n",
            "Episode 994/1000 || Best average reward 8.0\n",
            "Episode 995/1000 || Best average reward 8.0\n",
            "Episode 996/1000 || Best average reward 8.0\n",
            "Episode 997/1000 || Best average reward 8.0\n",
            "Episode 998/1000 || Best average reward 8.0\n",
            "Episode 999/1000 || Best average reward 8.0\n"
          ],
          "name": "stdout"
        }
      ]
    },
    {
      "cell_type": "markdown",
      "metadata": {
        "id": "AHDJV4ZAE2l8",
        "colab_type": "text"
      },
      "source": [
        "#### Visualize $\\epsilon$\n",
        "Plot our value of $\\epsilon$ over each episode"
      ]
    },
    {
      "cell_type": "code",
      "metadata": {
        "id": "q137fw4je8ln",
        "colab_type": "code",
        "outputId": "eae09eeb-ca98-4393-c64b-2f10a6d68a93",
        "colab": {
          "base_uri": "https://localhost:8080/",
          "height": 448
        }
      },
      "source": [
        "plt.figure(figsize=(24,6))\n",
        "plt.xlabel('Episode',fontsize=15)\n",
        "plt.ylabel('$\\epsilon$',fontsize=15)\n",
        "plt.plot(epsilons)\n",
        "plt.grid(True)\n",
        "plt.title(\"Epsilon Decay\",fontsize=15)"
      ],
      "execution_count": 38,
      "outputs": [
        {
          "output_type": "execute_result",
          "data": {
            "text/plain": [
              "Text(0.5, 1.0, 'Epsilon Decay')"
            ]
          },
          "metadata": {
            "tags": []
          },
          "execution_count": 38
        },
        {
          "output_type": "display_data",
          "data": {
            "image/png": "[encoded data removed]",
            "text/plain": [
              "<Figure size 1728x432 with 1 Axes>"
            ]
          },
          "metadata": {
            "tags": []
          }
        }
      ]
    },
    {
      "cell_type": "markdown",
      "metadata": {
        "id": "aN0YwuCu_Xcg",
        "colab_type": "text"
      },
      "source": [
        "Q-table"
      ]
    },
    {
      "cell_type": "code",
      "metadata": {
        "id": "Xu3KyxtS_ZqW",
        "colab_type": "code",
        "colab": {
          "base_uri": "https://localhost:8080/",
          "height": 454
        },
        "outputId": "eda920b3-f83d-4605-9a1c-878312abaab1"
      },
      "source": [
        "import seaborn as sns\n",
        "plt.figure(figsize=(24,6))\n",
        "for i in range(agent.q_table.shape[0]):\n",
        "  plt.subplot(1,5,i+1)\n",
        "  sns.heatmap(agent.q_table[i],annot=True,center=0,fmt=\".1f\", linewidths=1)\n",
        "  plt.title(f\"Observation {i}\")\n",
        "plt.suptitle(f\"Final Agent Q - Table\")"
      ],
      "execution_count": 39,
      "outputs": [
        {
          "output_type": "execute_result",
          "data": {
            "text/plain": [
              "Text(0.5, 0.98, 'Final Agent Q - Table')"
            ]
          },
          "metadata": {
            "tags": []
          },
          "execution_count": 39
        },
        {
          "output_type": "display_data",
          "data": {
            "image/png": "[encoded data removed]",
            "text/plain": [
              "<Figure size 1728x432 with 10 Axes>"
            ]
          },
          "metadata": {
            "tags": []
          }
        }
      ]
    },
    {
      "cell_type": "markdown",
      "metadata": {
        "id": "30Yr74K2e8lr",
        "colab_type": "text"
      },
      "source": [
        "#### Visualize Rewards\n",
        "Plot total_rewards per episode.  We apply a rolling mean of window $10$ to visualize easier."
      ]
    },
    {
      "cell_type": "code",
      "metadata": {
        "id": "Raqojkywe8ls",
        "colab_type": "code",
        "outputId": "c9a5408b-0707-4304-acdd-b3c23d14981c",
        "colab": {
          "base_uri": "https://localhost:8080/",
          "height": 428
        }
      },
      "source": [
        "plt.figure(figsize=(10,6))\n",
        "window = 10\n",
        "plt.grid(True)\n",
        "plt.xlabel('Episode',fontsize=15)\n",
        "plt.ylabel('Total Reward (SMA 10)',fontsize=15)\n",
        "plt.plot([np.mean(total_reward[tr:tr+window]) for tr in range(window, len(avg_score))])\n",
        "plt.title(\"Total Reward over epsiodes.\",fontsize=15)"
      ],
      "execution_count": 40,
      "outputs": [
        {
          "output_type": "execute_result",
          "data": {
            "text/plain": [
              "Text(0.5, 1.0, 'Total Reward over epsiodes.')"
            ]
          },
          "metadata": {
            "tags": []
          },
          "execution_count": 40
        },
        {
          "output_type": "display_data",
          "data": {
            "image/png": "[encoded data removed]",
            "text/plain": [
              "<Figure size 720x432 with 1 Axes>"
            ]
          },
          "metadata": {
            "tags": []
          }
        }
      ]
    },
    {
      "cell_type": "code",
      "metadata": {
        "id": "BWQBFfQb_hwh",
        "colab_type": "code",
        "colab": {
          "base_uri": "https://localhost:8080/",
          "height": 448
        },
        "outputId": "91e030c7-29f9-47e7-9795-152eb07d9e5d"
      },
      "source": [
        "plt.figure(figsize=(24,6))\n",
        "window = 10\n",
        "plt.grid(True)\n",
        "plt.xlabel('Episode',fontsize=15)\n",
        "plt.ylabel('Average Reward (SMA 10)',fontsize=15)\n",
        "plt.plot([np.mean(list(avg_score)[tr:tr+window]) for tr in range(window, len(avg_score))])\n",
        "plt.title(\"Average Reward over epsiodes.\",fontsize=15)"
      ],
      "execution_count": 41,
      "outputs": [
        {
          "output_type": "execute_result",
          "data": {
            "text/plain": [
              "Text(0.5, 1.0, 'Average Reward over epsiodes.')"
            ]
          },
          "metadata": {
            "tags": []
          },
          "execution_count": 41
        },
        {
          "output_type": "display_data",
          "data": {
            "image/png": "[encoded data removed]",
            "text/plain": [
              "<Figure size 1728x432 with 1 Axes>"
            ]
          },
          "metadata": {
            "tags": []
          }
        }
      ]
    },
    {
      "cell_type": "code",
      "metadata": {
        "colab_type": "code",
        "id": "M6wai0MeiGVG",
        "outputId": "9d4d5176-7289-4e92-e9d5-45d3919dc7a7",
        "colab": {
          "base_uri": "https://localhost:8080/",
          "height": 1000
        }
      },
      "source": [
        "env = GridEnvironment()\n",
        "\n",
        "obs = env.reset()\n",
        "done = False\n",
        "agent.epsilon = 0\n",
        "env.render()\n",
        "plt.show()\n",
        "\n",
        "while not done:\n",
        "    action = agent.step(obs)\n",
        "    obs, reward, done, info = env.step(action)\n",
        "    env.render()\n",
        "    plt.show()"
      ],
      "execution_count": 42,
      "outputs": [
        {
          "output_type": "display_data",
          "data": {
            "image/png": "[encoded data removed]",
            "text/plain": [
              "<Figure size 432x288 with 1 Axes>"
            ]
          },
          "metadata": {
            "tags": []
          }
        },
        {
          "output_type": "display_data",
          "data": {
            "image/png": "[encoded data removed]",
            "text/plain": [
              "<Figure size 432x288 with 1 Axes>"
            ]
          },
          "metadata": {
            "tags": []
          }
        },
        {
          "output_type": "display_data",
          "data": {
            "image/png": "[encoded data removed]",
            "text/plain": [
              "<Figure size 432x288 with 1 Axes>"
            ]
          },
          "metadata": {
            "tags": []
          }
        },
        {
          "output_type": "display_data",
          "data": {
            "image/png": "[encoded data removed]",
            "text/plain": [
              "<Figure size 432x288 with 1 Axes>"
            ]
          },
          "metadata": {
            "tags": []
          }
        },
        {
          "output_type": "display_data",
          "data": {
            "image/png": "[encoded data removed]",
            "text/plain": [
              "<Figure size 432x288 with 1 Axes>"
            ]
          },
          "metadata": {
            "tags": []
          }
        },
        {
          "output_type": "display_data",
          "data": {
            "image/png": "[encoded data removed]",
            "text/plain": [
              "<Figure size 432x288 with 1 Axes>"
            ]
          },
          "metadata": {
            "tags": []
          }
        },
        {
          "output_type": "display_data",
          "data": {
            "image/png": "[encoded data removed]",
            "text/plain": [
              "<Figure size 432x288 with 1 Axes>"
            ]
          },
          "metadata": {
            "tags": []
          }
        },
        {
          "output_type": "display_data",
          "data": {
            "image/png": "[encoded data removed]",
            "text/plain": [
              "<Figure size 432x288 with 1 Axes>"
            ]
          },
          "metadata": {
            "tags": []
          }
        },
        {
          "output_type": "display_data",
          "data": {
            "image/png": "[encoded data removed]",
            "text/plain": [
              "<Figure size 432x288 with 1 Axes>"
            ]
          },
          "metadata": {
            "tags": []
          }
        }
      ]
    }
  ]
}